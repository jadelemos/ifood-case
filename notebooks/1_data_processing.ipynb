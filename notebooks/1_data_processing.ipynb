{
 "cells": [
  {
   "cell_type": "markdown",
   "metadata": {
    "application/vnd.databricks.v1+cell": {
     "cellMetadata": {
      "byteLimit": 2048000,
      "rowLimit": 10000
     },
     "inputWidgets": {},
     "nuid": "7c12c09c-2aa3-4837-9242-9e638ab10c62",
     "showTitle": false,
     "tableResultSettingsMap": {},
     "title": ""
    }
   },
   "source": [
    "# Inicialização"
   ]
  },
  {
   "cell_type": "markdown",
   "metadata": {
    "application/vnd.databricks.v1+cell": {
     "cellMetadata": {
      "byteLimit": 2048000,
      "rowLimit": 10000
     },
     "inputWidgets": {},
     "nuid": "89c8f93f-3838-4faf-950e-1a90bb942341",
     "showTitle": false,
     "tableResultSettingsMap": {},
     "title": ""
    }
   },
   "source": [
    "## Carregando dependências"
   ]
  },
  {
   "cell_type": "code",
   "execution_count": 0,
   "metadata": {
    "application/vnd.databricks.v1+cell": {
     "cellMetadata": {
      "byteLimit": 2048000,
      "rowLimit": 10000
     },
     "inputWidgets": {},
     "nuid": "22d3f482-7fa2-4001-82d1-9f57d4f96fd3",
     "showTitle": false,
     "tableResultSettingsMap": {},
     "title": ""
    }
   },
   "outputs": [],
   "source": [
    "import matplotlib.pyplot as plt\n",
    "import seaborn as sns\n",
    "from pyspark.sql.functions import col, to_date, datediff, current_date, explode, array_contains, sum\n",
    "from pyspark.sql import functions as F\n",
    "from pyspark.sql import SparkSession\n",
    "from pyspark.sql.functions import coalesce\n",
    "import pandas as pd\n",
    "import os\n",
    "import sys\n",
    "sys.path.append(os.path.dirname(os.getcwd()))\n",
    "\n",
    "from pyspark.sql.window import Window\n"
   ]
  },
  {
   "cell_type": "markdown",
   "metadata": {
    "application/vnd.databricks.v1+cell": {
     "cellMetadata": {
      "byteLimit": 2048000,
      "rowLimit": 10000
     },
     "inputWidgets": {},
     "nuid": "39bf26f2-a511-4895-9ab3-4eadbca97daf",
     "showTitle": false,
     "tableResultSettingsMap": {},
     "title": ""
    }
   },
   "source": [
    "## Funções"
   ]
  },
  {
   "cell_type": "code",
   "execution_count": 0,
   "metadata": {
    "application/vnd.databricks.v1+cell": {
     "cellMetadata": {
      "byteLimit": 2048000,
      "rowLimit": 10000
     },
     "inputWidgets": {},
     "nuid": "a24dbbf3-b0be-405b-a193-aed6c7ba8055",
     "showTitle": false,
     "tableResultSettingsMap": {},
     "title": ""
    }
   },
   "outputs": [],
   "source": [
    "def generate_histogram(\n",
    "    df: pd.DataFrame(),\n",
    "    column: str,\n",
    "    title: str,\n",
    "    eixo_x: str,\n",
    "    hue: str=None\n",
    ") -> None:\n",
    "    '''\n",
    "    Info:\n",
    "        Funcao usada para gerar um histograma da coluna desejada.\n",
    "    ----------\n",
    "    Input:\n",
    "        df: Dataset contendo os dados a serem analisado.\n",
    "        column: Coluna a ser utilizada no grafico.\n",
    "        title: Titulo da imagem.\n",
    "        eixo_x: Titulo do eixo X da imagem.\n",
    "        hue: Coluna para ser utilizada em caso de analise por diferentes segmentos.\n",
    "    ----------\n",
    "    Output:\n",
    "        None.\n",
    "    '''\n",
    "    fig, ax = plt.subplots(figsize = [8, 6])\n",
    "    if hue:\n",
    "        sns.histplot(data = df, x = column, hue=hue)\n",
    "    else:\n",
    "        sns.histplot(data = df, x = column)\n",
    "\n",
    "    # Ajustando o gráfico\n",
    "    ax.set_title(title)\n",
    "    ax.set_xlabel(column.capitalize())\n",
    "    ax.set_ylabel('Frequência')\n",
    "    ax.set_xlabel(eixo_x)\n",
    "    ax.spines['top'].set_visible(False)\n",
    "    ax.spines['right'].set_visible(False)\n",
    "    ax.spines['left'].set_visible(False)\n",
    "    ax.grid(axis='y', visible=True, alpha = 0.7)\n"
   ]
  },
  {
   "cell_type": "markdown",
   "metadata": {
    "application/vnd.databricks.v1+cell": {
     "cellMetadata": {
      "byteLimit": 2048000,
      "rowLimit": 10000
     },
     "inputWidgets": {},
     "nuid": "5e1ec098-509d-416b-9a4b-a618d4b07717",
     "showTitle": false,
     "tableResultSettingsMap": {},
     "title": ""
    }
   },
   "source": [
    "## Carregando os dados"
   ]
  },
  {
   "cell_type": "code",
   "execution_count": 0,
   "metadata": {
    "application/vnd.databricks.v1+cell": {
     "cellMetadata": {
      "byteLimit": 2048000,
      "rowLimit": 10000
     },
     "inputWidgets": {},
     "nuid": "9958b609-6758-489c-bc9b-cf18ceb1e38a",
     "showTitle": false,
     "tableResultSettingsMap": {},
     "title": ""
    }
   },
   "outputs": [],
   "source": [
    "# df_offers = spark.read.format(\"json\").load(\"ifood-case/data/raw/offers.json\")\n",
    "# df_customers = spark.read.format(\"json\").load(\"ifood-case/data/raw/profile.json\")\n",
    "# df_transactions = spark.read.format(\"json\").load(\"ifood-case/data/raw/transactions.json\")\n",
    "\n",
    "df_offers = spark.read.format(\"json\").load(\"dbfs:/FileStore/shared_uploads/killbjade@gmail.com/offers.json\")\n",
    "df_customers = spark.read.format(\"json\").load(\"dbfs:/FileStore/shared_uploads/killbjade@gmail.com/profile.json\")\n",
    "df_transactions = spark.read.format(\"json\").load(\"dbfs:/FileStore/shared_uploads/killbjade@gmail.com/transactions.json\")"
   ]
  },
  {
   "cell_type": "markdown",
   "metadata": {
    "application/vnd.databricks.v1+cell": {
     "cellMetadata": {
      "byteLimit": 2048000,
      "rowLimit": 10000
     },
     "inputWidgets": {},
     "nuid": "cfc31f04-a50a-44ef-a69e-06325345af62",
     "showTitle": false,
     "tableResultSettingsMap": {},
     "title": ""
    }
   },
   "source": [
    "# Pré-processamento dos dados"
   ]
  },
  {
   "cell_type": "markdown",
   "metadata": {
    "application/vnd.databricks.v1+cell": {
     "cellMetadata": {
      "byteLimit": 2048000,
      "rowLimit": 10000
     },
     "inputWidgets": {},
     "nuid": "6b3618ec-ec46-481b-ab13-8d242bcef83a",
     "showTitle": false,
     "tableResultSettingsMap": {},
     "title": ""
    }
   },
   "source": [
    "## Base customers"
   ]
  },
  {
   "cell_type": "code",
   "execution_count": 0,
   "metadata": {
    "application/vnd.databricks.v1+cell": {
     "cellMetadata": {
      "byteLimit": 2048000,
      "rowLimit": 10000
     },
     "inputWidgets": {},
     "nuid": "08722a1a-1493-4b96-9793-efefbeff2221",
     "showTitle": false,
     "tableResultSettingsMap": {},
     "title": ""
    }
   },
   "outputs": [],
   "source": [
    "display(df_customers)"
   ]
  },
  {
   "cell_type": "code",
   "execution_count": 0,
   "metadata": {
    "application/vnd.databricks.v1+cell": {
     "cellMetadata": {
      "byteLimit": 2048000,
      "rowLimit": 10000
     },
     "inputWidgets": {},
     "nuid": "4b72f369-eed3-48d6-8577-df3862048aa9",
     "showTitle": false,
     "tableResultSettingsMap": {},
     "title": ""
    }
   },
   "outputs": [],
   "source": [
    "# Quantidade de clientes unicos\n",
    "print(f\"Quantidade de amostras na base de dados: {df_customers.count()}\")\n",
    "print(f\"Quantidade de IDs únicos na base de dados: {df_customers.select('id').distinct().count()}\")"
   ]
  },
  {
   "cell_type": "markdown",
   "metadata": {
    "application/vnd.databricks.v1+cell": {
     "cellMetadata": {
      "byteLimit": 2048000,
      "rowLimit": 10000
     },
     "inputWidgets": {},
     "nuid": "52d5a4af-3001-4974-88cc-4d994ca0dc2f",
     "showTitle": false,
     "tableResultSettingsMap": {},
     "title": ""
    }
   },
   "source": [
    "Não existem usuários duplicados na base de dados"
   ]
  },
  {
   "cell_type": "markdown",
   "metadata": {
    "application/vnd.databricks.v1+cell": {
     "cellMetadata": {
      "byteLimit": 2048000,
      "rowLimit": 10000
     },
     "inputWidgets": {},
     "nuid": "e7c6e34e-7e5c-4488-883d-1a8a0b02d615",
     "showTitle": false,
     "tableResultSettingsMap": {},
     "title": ""
    }
   },
   "source": [
    "### Age"
   ]
  },
  {
   "cell_type": "code",
   "execution_count": 0,
   "metadata": {
    "application/vnd.databricks.v1+cell": {
     "cellMetadata": {
      "byteLimit": 2048000,
      "rowLimit": 10000
     },
     "inputWidgets": {},
     "nuid": "3420060a-5ac4-42ee-8a97-8e7bd35b2410",
     "showTitle": false,
     "tableResultSettingsMap": {},
     "title": ""
    }
   },
   "outputs": [],
   "source": [
    "# Análise da idade\n",
    "# Hipótese: Idade 118 parece ser um erro no banco de dados - valor fora do normal acompanhado de valores nulos nos demais campos\n",
    "df_plot_customers = df_customers.toPandas()\n",
    "\n",
    "generate_histogram(\n",
    "    df=df_plot_customers,\n",
    "    column='age',\n",
    "    title='Frequência das idades',\n",
    "    eixo_x='Idade'\n",
    ")\n"
   ]
  },
  {
   "cell_type": "markdown",
   "metadata": {
    "application/vnd.databricks.v1+cell": {
     "cellMetadata": {
      "byteLimit": 2048000,
      "rowLimit": 10000
     },
     "inputWidgets": {},
     "nuid": "11366036-bb7c-4f86-8295-fb2665eb2b27",
     "showTitle": false,
     "tableResultSettingsMap": {},
     "title": ""
    }
   },
   "source": [
    "Pelo gráfio os registros com idade 118 parecem de fato um problema no banco de dados e serão removidos"
   ]
  },
  {
   "cell_type": "code",
   "execution_count": 0,
   "metadata": {
    "application/vnd.databricks.v1+cell": {
     "cellMetadata": {
      "byteLimit": 2048000,
      "rowLimit": 10000
     },
     "inputWidgets": {},
     "nuid": "20c10808-01e3-48c5-9c50-9ae3ae1c71e0",
     "showTitle": false,
     "tableResultSettingsMap": {},
     "title": ""
    }
   },
   "outputs": [],
   "source": [
    "# Filtrando a base de dados\n",
    "df_customers_age_clean = df_customers.filter(col('age') < 118)\n",
    "\n",
    "# Conferindo os valores nulos após o filtro\n",
    "print(f'Número de amostras: {df_customers_age_clean.count()}')\n",
    "print(f\"Número de amostras com nulos: {df_customers_age_clean.filter(col('gender').isNull()).count()}\")"
   ]
  },
  {
   "cell_type": "code",
   "execution_count": 0,
   "metadata": {
    "application/vnd.databricks.v1+cell": {
     "cellMetadata": {
      "byteLimit": 2048000,
      "rowLimit": 10000
     },
     "inputWidgets": {},
     "nuid": "c64dc39f-25c9-4f88-9d5f-ccd782a5e496",
     "showTitle": false,
     "tableResultSettingsMap": {},
     "title": ""
    }
   },
   "outputs": [],
   "source": [
    "# Analisando as idades por genero\n",
    "generate_histogram(\n",
    "    df=df_plot_customers,\n",
    "    column='age',\n",
    "    title='Frequência das idades',\n",
    "    eixo_x='Idade',\n",
    "    hue='gender'\n",
    ")"
   ]
  },
  {
   "cell_type": "code",
   "execution_count": 0,
   "metadata": {
    "application/vnd.databricks.v1+cell": {
     "cellMetadata": {
      "byteLimit": 2048000,
      "rowLimit": 10000
     },
     "inputWidgets": {},
     "nuid": "5cc0bea1-74d6-4705-afc7-8a0482817e7b",
     "showTitle": false,
     "tableResultSettingsMap": {},
     "title": ""
    }
   },
   "outputs": [],
   "source": [
    "# Extraindo o tempo em que os usuários estão registrados\n",
    "df_customers_reg_date = (\n",
    "    df_customers_age_clean\n",
    "    .withColumn(\"registered_on\", to_date(\"registered_on\", \"yyyyMMdd\"))\n",
    "    .withColumn(\"reg_age_in_days\", datediff(current_date(), \"registered_on\"))\n",
    "    .drop('registered_on')\n",
    ")\n",
    "display(df_customers_reg_date)"
   ]
  },
  {
   "cell_type": "code",
   "execution_count": 0,
   "metadata": {
    "application/vnd.databricks.v1+cell": {
     "cellMetadata": {
      "byteLimit": 2048000,
      "rowLimit": 10000
     },
     "inputWidgets": {},
     "nuid": "7e52e571-5be8-4acc-97b3-f47a05f321f5",
     "showTitle": false,
     "tableResultSettingsMap": {},
     "title": ""
    }
   },
   "outputs": [],
   "source": [
    "# Analisando os tempos de registro\n",
    "df_plot_age_reg = df_customers_reg_date.toPandas()\n",
    "generate_histogram(\n",
    "    df=df_plot_age_reg,\n",
    "    column='reg_age_in_days',\n",
    "    title='Frequência dos tempos de registro',\n",
    "    eixo_x='Tempo de registro (em dias)',\n",
    "    hue='gender'\n",
    ")"
   ]
  },
  {
   "cell_type": "markdown",
   "metadata": {
    "application/vnd.databricks.v1+cell": {
     "cellMetadata": {
      "byteLimit": 2048000,
      "rowLimit": 10000
     },
     "inputWidgets": {},
     "nuid": "10845044-3537-40d3-b9d1-6118664ef8f0",
     "showTitle": false,
     "tableResultSettingsMap": {},
     "title": ""
    }
   },
   "source": [
    "Em geral, as contas mais antigas são de usuários do gênero Masculino"
   ]
  },
  {
   "cell_type": "code",
   "execution_count": 0,
   "metadata": {
    "application/vnd.databricks.v1+cell": {
     "cellMetadata": {
      "byteLimit": 2048000,
      "rowLimit": 10000
     },
     "inputWidgets": {},
     "nuid": "a355da7f-1811-448f-b994-c2cf5b933f30",
     "showTitle": false,
     "tableResultSettingsMap": {},
     "title": ""
    }
   },
   "outputs": [],
   "source": [
    "# Analisando os limites do cartão\n",
    "generate_histogram(\n",
    "    df=df_plot_age_reg,\n",
    "    column='credit_card_limit',\n",
    "    title='Frequência dos limites de cartão',\n",
    "    eixo_x='Limite do cartão',\n",
    "    hue='gender'\n",
    ")"
   ]
  },
  {
   "cell_type": "markdown",
   "metadata": {
    "application/vnd.databricks.v1+cell": {
     "cellMetadata": {
      "byteLimit": 2048000,
      "rowLimit": 10000
     },
     "inputWidgets": {},
     "nuid": "aeec9e4d-53b2-4447-9e1e-d1346f5487b3",
     "showTitle": false,
     "tableResultSettingsMap": {},
     "title": ""
    }
   },
   "source": [
    "Existem mais usuários com gênero Feminino que possuem maior limite no cartão"
   ]
  },
  {
   "cell_type": "code",
   "execution_count": 0,
   "metadata": {
    "application/vnd.databricks.v1+cell": {
     "cellMetadata": {
      "byteLimit": 2048000,
      "rowLimit": 10000
     },
     "inputWidgets": {},
     "nuid": "a34936ec-e02f-41ae-88fa-c8d4c9ef2135",
     "showTitle": false,
     "tableResultSettingsMap": {},
     "title": ""
    }
   },
   "outputs": [],
   "source": [
    "# Aplicando One-hot-encoding na coluna gender\n",
    "unique_genders = [row.gender for row in df_customers_reg_date.select(F.col('gender')).distinct().collect()]\n",
    "for gender in unique_genders:\n",
    "    df_customers_reg_date = (\n",
    "        df_customers_reg_date\n",
    "        .withColumn(\n",
    "            f'gender_{gender}', \n",
    "            F.when(F.col('gender') == gender, 1)\n",
    "            .otherwise(0)\n",
    "        )\n",
    "    )\n",
    "\n",
    "# Removendo a coluna de genero\n",
    "df_customers_gender_oh = df_customers_reg_date.drop('gender')\n",
    "display(df_customers_gender_oh)"
   ]
  },
  {
   "cell_type": "markdown",
   "metadata": {
    "application/vnd.databricks.v1+cell": {
     "cellMetadata": {
      "byteLimit": 2048000,
      "rowLimit": 10000
     },
     "inputWidgets": {},
     "nuid": "33fa121c-5a85-47c3-b166-772447c75531",
     "showTitle": false,
     "tableResultSettingsMap": {},
     "title": ""
    }
   },
   "source": [
    "## Base offers"
   ]
  },
  {
   "cell_type": "code",
   "execution_count": 0,
   "metadata": {
    "application/vnd.databricks.v1+cell": {
     "cellMetadata": {
      "byteLimit": 2048000,
      "rowLimit": 10000
     },
     "inputWidgets": {},
     "nuid": "f28c66f9-1f11-4b3b-ada6-aae1b4ab1e1a",
     "showTitle": false,
     "tableResultSettingsMap": {},
     "title": ""
    }
   },
   "outputs": [],
   "source": [
    "display(df_offers)"
   ]
  },
  {
   "cell_type": "markdown",
   "metadata": {
    "application/vnd.databricks.v1+cell": {
     "cellMetadata": {
      "byteLimit": 2048000,
      "rowLimit": 10000
     },
     "inputWidgets": {},
     "nuid": "14b560c0-bbf0-4d88-a8b0-3f6a39d9a93e",
     "showTitle": false,
     "tableResultSettingsMap": {},
     "title": ""
    }
   },
   "source": [
    "### Channels"
   ]
  },
  {
   "cell_type": "code",
   "execution_count": 0,
   "metadata": {
    "application/vnd.databricks.v1+cell": {
     "cellMetadata": {
      "byteLimit": 2048000,
      "rowLimit": 10000
     },
     "inputWidgets": {},
     "nuid": "c05d285c-114c-45ef-ae7c-94274a024656",
     "showTitle": false,
     "tableResultSettingsMap": {},
     "title": ""
    }
   },
   "outputs": [],
   "source": [
    "# Criando uma coluna com número total de canais pelos quais a oferta foi vinculada\n",
    "df_offers = df_offers.withColumn(\"num_channels\", F.size(F.col(\"channels\")))"
   ]
  },
  {
   "cell_type": "code",
   "execution_count": 0,
   "metadata": {
    "application/vnd.databricks.v1+cell": {
     "cellMetadata": {
      "byteLimit": 2048000,
      "rowLimit": 10000
     },
     "inputWidgets": {},
     "nuid": "e2a1bebf-dfba-41e6-b2ce-e853836dc2f7",
     "showTitle": false,
     "tableResultSettingsMap": {},
     "title": ""
    }
   },
   "outputs": [],
   "source": [
    "# Aplicando one-hot-encoding na coluna channels\n",
    "# Obtendo os possívels valores do canais\n",
    "unique_channels = [row.value for row in df_offers.select(explode(col(\"channels\")).alias(\"value\")).distinct().collect()]\n",
    "\n",
    "# Criando as novas colunas\n",
    "for channel in unique_channels:\n",
    "    df_offers = df_offers.withColumn(\n",
    "        f\"channel_{channel}\",\n",
    "        array_contains(col(\"channels\"), channel).cast(\"integer\")\n",
    "    )\n",
    "\n",
    "# Excluindo a coluna original\n",
    "df_offers_clean = df_offers.drop('channels')\n",
    "\n",
    "display(df_offers_clean)"
   ]
  },
  {
   "cell_type": "markdown",
   "metadata": {
    "application/vnd.databricks.v1+cell": {
     "cellMetadata": {
      "byteLimit": 2048000,
      "rowLimit": 10000
     },
     "inputWidgets": {},
     "nuid": "0a6a8733-6716-49aa-a8a2-d4c80f0d5688",
     "showTitle": false,
     "tableResultSettingsMap": {},
     "title": ""
    }
   },
   "source": [
    "### Offer_type"
   ]
  },
  {
   "cell_type": "code",
   "execution_count": 0,
   "metadata": {
    "application/vnd.databricks.v1+cell": {
     "cellMetadata": {
      "byteLimit": 2048000,
      "rowLimit": 10000
     },
     "inputWidgets": {},
     "nuid": "63313c74-1db8-4f5f-8001-67c5ed421dbc",
     "showTitle": false,
     "tableResultSettingsMap": {},
     "title": ""
    }
   },
   "outputs": [],
   "source": [
    "# Criando manualmente One-Hot Encoding para o tipo de oferta\n",
    "unique_offer_types = [row.offer_type for row in df_offers_clean.select(F.col('offer_type')).distinct().collect()]\n",
    "for offer_type in unique_offer_types:\n",
    "    df_offers_clean = (\n",
    "        df_offers_clean\n",
    "        .withColumn(\n",
    "            f'offer_type_{offer_type}', \n",
    "            F.when(F.col('offer_type') == offer_type, 1)\n",
    "            .otherwise(0)\n",
    "        )\n",
    "    )\n",
    "\n",
    "# Excluindo a coluna original\n",
    "df_offers_clean = df_offers_clean.drop('offer_type')\n",
    "\n",
    "display(df_offers_clean)"
   ]
  },
  {
   "cell_type": "markdown",
   "metadata": {
    "application/vnd.databricks.v1+cell": {
     "cellMetadata": {
      "byteLimit": 2048000,
      "rowLimit": 10000
     },
     "inputWidgets": {},
     "nuid": "30a54c7c-8711-4bcf-ad05-f280c342efa3",
     "showTitle": false,
     "tableResultSettingsMap": {},
     "title": ""
    }
   },
   "source": [
    "## Base transactions"
   ]
  },
  {
   "cell_type": "code",
   "execution_count": 0,
   "metadata": {
    "application/vnd.databricks.v1+cell": {
     "cellMetadata": {
      "byteLimit": 2048000,
      "rowLimit": 10000
     },
     "inputWidgets": {},
     "nuid": "15add0ff-df0d-406b-8b12-f9e1ff38d303",
     "showTitle": false,
     "tableResultSettingsMap": {},
     "title": ""
    }
   },
   "outputs": [],
   "source": [
    "display(df_transactions)"
   ]
  },
  {
   "cell_type": "markdown",
   "metadata": {
    "application/vnd.databricks.v1+cell": {
     "cellMetadata": {
      "byteLimit": 2048000,
      "rowLimit": 10000
     },
     "inputWidgets": {},
     "nuid": "82180048-5a0d-49c9-8394-3cef5dc539c6",
     "showTitle": false,
     "tableResultSettingsMap": {},
     "title": ""
    }
   },
   "source": [
    "### Value"
   ]
  },
  {
   "cell_type": "code",
   "execution_count": 0,
   "metadata": {
    "application/vnd.databricks.v1+cell": {
     "cellMetadata": {
      "byteLimit": 2048000,
      "rowLimit": 10000
     },
     "inputWidgets": {},
     "nuid": "dec3a738-3968-4a74-8e95-13a1ccfaccb4",
     "showTitle": false,
     "tableResultSettingsMap": {},
     "title": ""
    }
   },
   "outputs": [],
   "source": [
    "# Extraindo as informações do campo values\n",
    "df_transactions_extracted = (\n",
    "    df_transactions\n",
    "    .withColumn(\"amount\", col(\"value.amount\"))\n",
    "    .withColumn(\"offer_id_original\", col(\"value.offer id\"))\n",
    "    .withColumn(\"offer_id_null\", col(\"value.offer_id\"))\n",
    "    .withColumn(\"reward\", col(\"value.reward\"))\n",
    "    .drop('value')\n",
    ")\n",
    "\n",
    "display(df_transactions_extracted)"
   ]
  },
  {
   "cell_type": "code",
   "execution_count": 0,
   "metadata": {
    "application/vnd.databricks.v1+cell": {
     "cellMetadata": {
      "byteLimit": 2048000,
      "rowLimit": 10000
     },
     "inputWidgets": {},
     "nuid": "0c1d314b-987e-44f6-9a65-5ed571485ca7",
     "showTitle": false,
     "tableResultSettingsMap": {},
     "title": ""
    }
   },
   "outputs": [],
   "source": [
    "#Análise em um único cliente para entender o fluxo de transação\n",
    "cliente = df_transactions_extracted.filter(col('account_id')=='0861b9ca31b741bb8b411b18f82d18f6')\n",
    "display(cliente)"
   ]
  },
  {
   "cell_type": "code",
   "execution_count": 0,
   "metadata": {
    "application/vnd.databricks.v1+cell": {
     "cellMetadata": {
      "byteLimit": 2048000,
      "rowLimit": 10000
     },
     "inputWidgets": {},
     "nuid": "0a8d8776-2f70-482f-95cb-9092ad95578b",
     "showTitle": false,
     "tableResultSettingsMap": {},
     "title": ""
    }
   },
   "outputs": [],
   "source": [
    "# Adicionando a informação de disconto utilizados no registro de transação\n",
    "df_transactions_extracted = (\n",
    "    df_transactions_extracted.filter(col('event') != 'offer completed').drop('reward', 'offer_id_null')\n",
    "    .join(\n",
    "        df_transactions_extracted.filter(col('event') == 'offer completed').select('account_id', 'reward', 'offer_id_null', 'time_since_test_start'),\n",
    "        how = 'left',\n",
    "        on = ['account_id', 'time_since_test_start']\n",
    "    )\n",
    ")\n",
    "\n",
    "#Conferindo no mesmo cliente\n",
    "display(df_transactions_extracted.filter(col('account_id')=='0861b9ca31b741bb8b411b18f82d18f6'))"
   ]
  },
  {
   "cell_type": "code",
   "execution_count": 0,
   "metadata": {
    "application/vnd.databricks.v1+cell": {
     "cellMetadata": {
      "byteLimit": 2048000,
      "rowLimit": 10000
     },
     "inputWidgets": {},
     "nuid": "2021e714-0c7a-44c0-9419-d29527b685a4",
     "showTitle": false,
     "tableResultSettingsMap": {},
     "title": ""
    }
   },
   "outputs": [],
   "source": [
    "# Foi observado que offer_id_null apresenta o id da oferta somente quando há transação completada. Desse modo, juntou-se as colunas de offer_id\n",
    "\n",
    "# Cria a nova coluna 'offer_id' pegando o primeiro valor não nulo entre 'offer_id_original' e 'offer_id_null' e apaga coluna original\n",
    "df_transactions_formatted = (\n",
    "    df_transactions_extracted\n",
    "    .withColumn(\"offer_id\", coalesce(\"offer_id_original\", \"offer_id_null\"))\n",
    "    .drop(\"offer_id_original\", \"offer_id_null\")\n",
    ")\n",
    "\n",
    "#Conferindo no mesmo cliente\n",
    "# cliente = df_transactions_formatted.filter(col('account_id')=='0861b9ca31b741bb8b411b18f82d18f6')\n",
    "display(cliente)"
   ]
  },
  {
   "cell_type": "markdown",
   "metadata": {
    "application/vnd.databricks.v1+cell": {
     "cellMetadata": {
      "byteLimit": 2048000,
      "rowLimit": 10000
     },
     "inputWidgets": {},
     "nuid": "4a9e8414-8bc3-4118-bb63-325762c9d1a7",
     "showTitle": false,
     "tableResultSettingsMap": {},
     "title": ""
    }
   },
   "source": [
    "## Juntando as bases de dados"
   ]
  },
  {
   "cell_type": "code",
   "execution_count": 0,
   "metadata": {
    "application/vnd.databricks.v1+cell": {
     "cellMetadata": {
      "byteLimit": 2048000,
      "rowLimit": 10000
     },
     "inputWidgets": {},
     "nuid": "98725af6-d9e6-47fe-958d-6de956c1ef03",
     "showTitle": false,
     "tableResultSettingsMap": {},
     "title": ""
    }
   },
   "outputs": [],
   "source": [
    "df_join = (\n",
    "    df_transactions_formatted\n",
    "    .join(\n",
    "        df_offers_clean.withColumnRenamed('id', 'offer_id'),\n",
    "        how='left',\n",
    "        on='offer_id'\n",
    "    )\n",
    "    .join(\n",
    "        df_customers_gender_oh.withColumnRenamed('id', 'account_id'),\n",
    "        how='left',\n",
    "        on='account_id'\n",
    "    )\n",
    ")\n",
    "\n",
    "display(df_join.orderBy('account_id', 'time_since_test_start'))"
   ]
  },
  {
   "cell_type": "code",
   "execution_count": 0,
   "metadata": {
    "application/vnd.databricks.v1+cell": {
     "cellMetadata": {
      "byteLimit": 2048000,
      "rowLimit": 10000
     },
     "inputWidgets": {},
     "nuid": "3406979c-2bcb-4936-947b-04eb92161bc3",
     "showTitle": false,
     "tableResultSettingsMap": {
      "0": {
       "dataGridStateBlob": null,
       "filterBlob": "{\"version\":1,\"filterGroups\":[{\"enabled\":true,\"filterGroupId\":\"fg_6dc7d9b4\",\"op\":\"OR\",\"filters\":[{\"filterId\":\"f_4c956df4\",\"enabled\":true,\"columnId\":\"age\",\"dataType\":\"integer\",\"filterType\":\"eq\",\"filterValue\":\"\",\"filterConfig\":{}}],\"local\":false,\"updatedAt\":1749650482989}],\"syncTimestamp\":1749650482989}",
       "queryPlanFiltersBlob": null,
       "tableResultIndex": 0
      }
     },
     "title": ""
    }
   },
   "outputs": [],
   "source": [
    "# Removendo amostras com informações de conta nulos\n",
    "df_join_clean = df_join.filter(col('age').isNotNull())\n",
    "display(df_join_clean)"
   ]
  },
  {
   "cell_type": "markdown",
   "metadata": {
    "application/vnd.databricks.v1+cell": {
     "cellMetadata": {
      "byteLimit": 2048000,
      "rowLimit": 10000
     },
     "inputWidgets": {},
     "nuid": "084e6cab-81d2-4b5c-8eba-76bbad9b3712",
     "showTitle": false,
     "tableResultSettingsMap": {},
     "title": ""
    }
   },
   "source": [
    "## Feature Engineering\n",
    "\n",
    "Criação de variáveis que podem ser úteis na modelagem."
   ]
  },
  {
   "cell_type": "markdown",
   "metadata": {
    "application/vnd.databricks.v1+cell": {
     "cellMetadata": {
      "byteLimit": 2048000,
      "rowLimit": 10000
     },
     "inputWidgets": {},
     "nuid": "8746599e-ea67-4de6-95f8-f6432f0ba12e",
     "showTitle": false,
     "tableResultSettingsMap": {},
     "title": ""
    }
   },
   "source": [
    "\n",
    "total_transactions_client = numero total de transacoes feitas pelo cliente ate a transação atual\n",
    "\n",
    "total_spent_client = valor total gasto pelo cliente em transacoes ate ate a transação atual\n",
    "\n",
    "offer_completion_rate_client = taxa de completude de ofertas do cliente (numero de ofertas completadas/numero de ofertas recebidas) até o evento\n",
    "\n",
    "days_since_last_transaction = dias desde a última transacao do cliente ate o evento\n",
    "\n",
    "offer_historical_completion_rate = taxa histórica de completude para essa oferta especifica\n",
    "\n",
    "min_value_vs_avg_transaction_client = relacao entre o valor minimo da oferta e o valor médio de transação do cliente (total_spent_client/total_transactions_client)"
   ]
  },
  {
   "cell_type": "code",
   "execution_count": 0,
   "metadata": {
    "application/vnd.databricks.v1+cell": {
     "cellMetadata": {
      "byteLimit": 2048000,
      "rowLimit": 10000
     },
     "inputWidgets": {},
     "nuid": "4427b9d8-7d97-4401-8fba-9400ee45884b",
     "showTitle": false,
     "tableResultSettingsMap": {
      "0": {
       "dataGridStateBlob": null,
       "filterBlob": "{\"version\":1,\"filterGroups\":[{\"enabled\":true,\"filterGroupId\":\"fg_394013cb\",\"op\":\"OR\",\"filters\":[{\"filterId\":\"f_c0290b65\",\"enabled\":true,\"columnId\":\"age\",\"dataType\":\"integer\",\"filterType\":\"eq\",\"filterValue\":\"0\",\"filterConfig\":{}}],\"local\":false,\"updatedAt\":1749650525437}],\"syncTimestamp\":1749650525437}",
       "queryPlanFiltersBlob": null,
       "tableResultIndex": 0
      }
     },
     "title": ""
    }
   },
   "outputs": [],
   "source": [
    "# 1. Definição da Janela\n",
    "# Particionando por 'account_id' para que a contagem seja por cliente.\n",
    "# Ordenando por 'time_since_test_start' para garantir a ordem cronológica.\n",
    "# 'rowsBetween(Window.unboundedPreceding, Window.currentRow)' define que a janela\n",
    "# inclui todas as linhas desde o início da partição até a linha atual.\n",
    "\n",
    "window_spec = Window.partitionBy(\"account_id\").orderBy(\"time_since_test_start\").rowsBetween(Window.unboundedPreceding, Window.currentRow)\n",
    "\n",
    "# Criação das features descritas acima\n",
    "df_feat_eng = (\n",
    "    df_join_clean\n",
    "\n",
    "    ### Calculos de features ao longo do tempo ###\n",
    "    # Numero de transacoes feitas\n",
    "    .withColumn(\n",
    "        \"hist_total_transactions\",\n",
    "        F.sum(F.when(F.col(\"event\") == \"transaction\", 1).otherwise(0)).over(window_spec)\n",
    "    )\n",
    "    # Valor gasto com transacoes\n",
    "    .withColumn(\n",
    "        'hist_total_spent',\n",
    "        F.sum(F.when(F.col(\"event\") == \"transaction\", F.col(\"amount\")).otherwise(0.0)).over(window_spec)\n",
    "    )\n",
    "    # Numero de cupons usados\n",
    "    .withColumn(\n",
    "        'hist_total_offer_used',\n",
    "        F.sum(F.when(F.col(\"reward\") > 0, 1).otherwise(0)).over(window_spec)\n",
    "    )\n",
    "    # Valor economizado com cupons\n",
    "    .withColumn(\n",
    "        'hist_total_offer_amount_used',\n",
    "        F.sum(F.when(F.col(\"reward\") > 0, F.col(\"amount\")).otherwise(0.0)).over(window_spec)\n",
    "    )\n",
    "    # Numero de ofertas recebidas\n",
    "    .withColumn(\n",
    "        'hist_total_offer_received',\n",
    "        F.sum(F.when(F.col(\"event\") == \"offer received\", 1).otherwise(0.0)).over(window_spec)\n",
    "    )\n",
    "    # Dias desde a ultima transacao\n",
    "    .withColumn(\n",
    "        'last_transaction_time',\n",
    "        F.last(F.when(F.col(\"event\") == \"transaction\", F.col(\"time_since_test_start\")), ignorenulls=True).over(window_spec)\n",
    "    )\n",
    "    .withColumn(\n",
    "        'days_sice_last_transaction',\n",
    "        coalesce(F.col('time_since_test_start') - F.col('last_transaction_time'), F.col('time_since_test_start'))\n",
    "    )\n",
    "    # Media de valor gasto em transacoes\n",
    "    .withColumn(\n",
    "        'hist_avg_amount_spent',\n",
    "        F.col('hist_total_spent')/F.col('hist_total_transactions')\n",
    "    )\n",
    "\n",
    "    ### Calculos de taxas e relacoes ###\n",
    "    # Taxa de uso de ofertas\n",
    "    .withColumn(\n",
    "        'offer_usage_rate',\n",
    "        F.col('hist_total_offer_used')/F.col('hist_total_offer_received')\n",
    "    )\n",
    "\n",
    "    # Relacao entre transacoes e ofertas usados\n",
    "    .withColumn(\n",
    "        'trx_offer_usage_rate',\n",
    "        F.col('hist_total_offer_used')/F.col('hist_total_transactions')\n",
    "    )\n",
    "    # Relacao entre dinheiro gasto e dinheiro economizado com ofertas\n",
    "    .withColumn(\n",
    "        'offer_money_saved_rate',\n",
    "        F.col('hist_total_spent')/F.col('hist_total_offer_amount_used')\n",
    "    )\n",
    "    # Relacao entre o valor minimo da oferta e a media do valor gasto em transcoes\n",
    "    .withColumn(\n",
    "        'min_amount_offer_by_avg_spent_rate',\n",
    "        F.col('min_value')/F.col('hist_avg_amount_spent')\n",
    "    )\n",
    "\n",
    "    # Removendo colunas\n",
    "    .drop('last_transaction_time', 'reward')\n",
    "\n",
    "    # Ordenando os dados\n",
    "    .orderBy(\"account_id\", \"time_since_test_start\")\n",
    ")\n",
    "\n",
    "# Limpandos nulos\n",
    "for null_column in [c for c in df_feat_eng.columns if c != 'offer_id']:\n",
    "    df_feat_eng = df_feat_eng.fillna({null_column: 0})\n",
    "\n",
    "# Mostra o DataFrame com a nova coluna\n",
    "display(df_feat_eng)"
   ]
  },
  {
   "cell_type": "code",
   "execution_count": 0,
   "metadata": {
    "application/vnd.databricks.v1+cell": {
     "cellMetadata": {
      "byteLimit": 2048000,
      "rowLimit": 10000
     },
     "inputWidgets": {},
     "nuid": "11c97fc9-a2ed-47f2-9ee2-8734839ddeaa",
     "showTitle": false,
     "tableResultSettingsMap": {},
     "title": ""
    }
   },
   "outputs": [],
   "source": [
    "# Limpando o dataset\n",
    "df_clean = (\n",
    "    df_feat_eng\n",
    "    .filter(F.col('event') == 'transaction')\n",
    "    .drop(\n",
    "        'event'\n",
    "    )\n",
    ")\n",
    "\n",
    "display(df_clean)"
   ]
  },
  {
   "cell_type": "markdown",
   "metadata": {
    "application/vnd.databricks.v1+cell": {
     "cellMetadata": {
      "byteLimit": 2048000,
      "rowLimit": 10000
     },
     "inputWidgets": {},
     "nuid": "967b1c89-c78e-4fce-a354-37f17fb0a064",
     "showTitle": false,
     "tableResultSettingsMap": {},
     "title": ""
    }
   },
   "source": [
    "## Salvando os dados processados"
   ]
  },
  {
   "cell_type": "code",
   "execution_count": 0,
   "metadata": {
    "application/vnd.databricks.v1+cell": {
     "cellMetadata": {
      "byteLimit": 2048000,
      "rowLimit": 10000
     },
     "inputWidgets": {},
     "nuid": "f141ee7b-dc60-4518-9d04-00c2191c25f4",
     "showTitle": false,
     "tableResultSettingsMap": {},
     "title": ""
    }
   },
   "outputs": [],
   "source": [
    "df_clean.write.mode(\"overwrite\").json(\"dbfs:/FileStore/shared_uploads/killbjade@gmail.com/data_processed.json\")\n",
    "# df_clean.write.mode(\"overwrite\").json(\"ifood-case/data/processed/data_processed.json\")"
   ]
  }
 ],
 "metadata": {
  "application/vnd.databricks.v1+notebook": {
   "computePreferences": null,
   "dashboards": [],
   "environmentMetadata": {
    "base_environment": "",
    "environment_version": "1"
   },
   "inputWidgetPreferences": null,
   "language": "python",
   "notebookMetadata": {
    "pythonIndentUnit": 4
   },
   "notebookName": "(Clone) processamento_dados",
   "widgets": {}
  }
 },
 "nbformat": 4,
 "nbformat_minor": 0
}